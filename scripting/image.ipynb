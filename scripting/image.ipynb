{
 "cells": [
  {
   "cell_type": "code",
   "execution_count": 7,
   "metadata": {
    "collapsed": true,
    "jupyter": {
     "outputs_hidden": true
    }
   },
   "outputs": [],
   "source": [
    "import os\n",
    "from PIL import Image\n",
    "\n",
    "img_path = \"assets\""
   ]
  },
  {
   "cell_type": "code",
   "execution_count": 8,
   "metadata": {
    "collapsed": false,
    "jupyter": {
     "outputs_hidden": false
    }
   },
   "outputs": [],
   "source": [
    "image_list = list()\n",
    "\n",
    "for imageName in os.listdir(img_path):\n",
    "    if imageName.endswith(\".jpg\") or imageName.endswith(\".png\"):\n",
    "        img = Image.open(os.path.join(img_path, imageName))\n",
    "        image_list.append(img.convert(\"L\"))"
   ]
  },
  {
   "cell_type": "markdown",
   "metadata": {},
   "source": [
    "## it will show the list of images as well as their size"
   ]
  },
  {
   "cell_type": "code",
   "execution_count": 9,
   "metadata": {
    "collapsed": false,
    "jupyter": {
     "outputs_hidden": false
    }
   },
   "outputs": [
    {
     "name": "stdout",
     "output_type": "stream",
     "text": [
      "[<PIL.Image.Image image mode=L size=3840x2160 at 0x20357081F90>, <PIL.Image.Image image mode=L size=320x298 at 0x20356F936D0>, <PIL.Image.Image image mode=L size=260x240 at 0x203573043D0>, <PIL.Image.Image image mode=L size=640x640 at 0x20357080BD0>, <PIL.Image.Image image mode=L size=618x640 at 0x2035712CD50>]\n"
     ]
    }
   ],
   "source": [
    "print(image_list)"
   ]
  },
  {
   "cell_type": "markdown",
   "metadata": {},
   "source": [
    "### The below cell resizes the images, rotates them and saves the copy in given path"
   ]
  },
  {
   "cell_type": "code",
   "execution_count": 10,
   "metadata": {
    "collapsed": false,
    "jupyter": {
     "outputs_hidden": false
    }
   },
   "outputs": [],
   "source": [
    "temp = image_list[0].rotate(90)\n",
    "temp = temp.resize((800, 800))\n",
    "temp.save(\"assets/result/gray.png\", \"png\")\n",
    "\n",
    "temp2 = image_list[1].rotate(180)\n",
    "temp2 = temp2.resize((200, 200))\n",
    "temp2.save(\"assets/result/gray2.png\", \"png\")"
   ]
  },
  {
   "cell_type": "markdown",
   "metadata": {},
   "source": [
    "## This resizes the image and saves a copy\n",
    "- The new resolution will not be exact as we want\n",
    "- It will try its to keep the aspect ratio in range up to given size\n",
    "- However if the given range is too small then the image will be starched/squished"
   ]
  },
  {
   "cell_type": "code",
   "execution_count": 11,
   "metadata": {
    "collapsed": false,
    "jupyter": {
     "outputs_hidden": false
    }
   },
   "outputs": [
    {
     "name": "stdout",
     "output_type": "stream",
     "text": [
      "(3840, 2160)\n",
      "(400, 225)\n"
     ]
    }
   ],
   "source": [
    "profile_pic = Image.open(\"assets/astronaut-holding-space-jellyfish.png\")\n",
    "print(profile_pic.size)\n",
    "\n",
    "profile_pic.thumbnail((400, 400))\n",
    "profile_pic.save(\"assets/result/final.png\", \"png\")\n",
    "\n",
    "print(profile_pic.size)"
   ]
  }
 ],
 "metadata": {
  "kernelspec": {
   "display_name": "Python 3 (ipykernel)",
   "language": "python",
   "name": "python3"
  },
  "language_info": {
   "codemirror_mode": {
    "name": "ipython",
    "version": 3
   },
   "file_extension": ".py",
   "mimetype": "text/x-python",
   "name": "python",
   "nbconvert_exporter": "python",
   "pygments_lexer": "ipython3",
   "version": "3.10.9"
  }
 },
 "nbformat": 4,
 "nbformat_minor": 4
}
