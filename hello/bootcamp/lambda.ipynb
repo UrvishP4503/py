{
 "cells": [
  {
   "cell_type": "code",
   "execution_count": 2,
   "metadata": {
    "collapsed": true
   },
   "outputs": [
    {
     "name": "stdout",
     "output_type": "stream",
     "text": [
      "[0, 1, 4, 9, 16, 25, 36, 49, 64, 81]\n"
     ]
    }
   ],
   "source": [
    "from functools import reduce\n",
    "\n",
    "my_list = [0,1,2,3,4,5,6,7,8,9]\n",
    "\n",
    "print(list(map(lambda i:i*i,my_list)))"
   ]
  },
  {
   "cell_type": "code",
   "execution_count": 5,
   "outputs": [
    {
     "name": "stdout",
     "output_type": "stream",
     "text": [
      "45\n"
     ]
    }
   ],
   "source": [
    "print(reduce(lambda acc,i: acc+i,my_list))\n",
    "#also we can give the value of accumulator print(reduce(lambda acc,i: acc+i,my_list,acc_val a number))"
   ],
   "metadata": {
    "collapsed": false
   }
  },
  {
   "cell_type": "markdown",
   "source": [
    "* sort the given array according to the second element of tuple"
   ],
   "metadata": {
    "collapsed": false
   }
  },
  {
   "cell_type": "code",
   "execution_count": 6,
   "outputs": [
    {
     "name": "stdout",
     "output_type": "stream",
     "text": [
      "[(10, -1), (1, 4), (2, 5), (2, 7)]\n"
     ]
    }
   ],
   "source": [
    "arr = [(1,4),(2,7),(10,-1),(2,5)]\n",
    "arr.sort(key=lambda i:i[1])\n",
    "print(arr)"
   ],
   "metadata": {
    "collapsed": false
   }
  },
  {
   "cell_type": "code",
   "execution_count": 9,
   "outputs": [
    {
     "name": "stdout",
     "output_type": "stream",
     "text": [
      "['s', 'v']\n"
     ]
    }
   ],
   "source": [
    "name = [\"a\",\"s\",\"s\",\"d\",\"e\",\"u\",\"v\",\"p\",\"v\"]\n",
    "dup = list({i for i in name if name.count(i) > 1})\n",
    "print(dup)"
   ],
   "metadata": {
    "collapsed": false
   }
  }
 ],
 "metadata": {
  "kernelspec": {
   "display_name": "Python 3",
   "language": "python",
   "name": "python3"
  },
  "language_info": {
   "codemirror_mode": {
    "name": "ipython",
    "version": 2
   },
   "file_extension": ".py",
   "mimetype": "text/x-python",
   "name": "python",
   "nbconvert_exporter": "python",
   "pygments_lexer": "ipython2",
   "version": "2.7.6"
  }
 },
 "nbformat": 4,
 "nbformat_minor": 0
}
