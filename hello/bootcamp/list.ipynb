{
 "cells": [
  {
   "cell_type": "code",
   "execution_count": 2,
   "metadata": {},
   "outputs": [
    {
     "name": "stdout",
     "output_type": "stream",
     "text": [
      "[1, 2, 3]\n",
      "3\n"
     ]
    }
   ],
   "source": [
    "mylist = [1,2,3]\n",
    "print(mylist)\n",
    "print(len(mylist))"
   ]
  },
  {
   "cell_type": "code",
   "execution_count": 8,
   "metadata": {},
   "outputs": [],
   "source": [
    "mylist2 = [\"abc\",\"xyz\",\"opq\",\"uvw\"]"
   ]
  },
  {
   "cell_type": "code",
   "execution_count": 12,
   "metadata": {},
   "outputs": [
    {
     "name": "stdout",
     "output_type": "stream",
     "text": [
      "['xyz', 'opq', 'uvw']\n",
      "['abc', 'xyz', 'opq']\n"
     ]
    }
   ],
   "source": [
    "print(mylist2[1:])\n",
    "print(mylist2[:-1])"
   ]
  },
  {
   "cell_type": "code",
   "execution_count": 23,
   "metadata": {},
   "outputs": [],
   "source": [
    "mylist2.clear()\n",
    "mylist2.append(\"wasd\")"
   ]
  },
  {
   "cell_type": "code",
   "execution_count": 25,
   "metadata": {},
   "outputs": [
    {
     "name": "stdout",
     "output_type": "stream",
     "text": [
      "['wasd', 'qwerty']\n"
     ]
    }
   ],
   "source": [
    "mylist2.append(\"qwerty\")\n",
    "print(mylist2)"
   ]
  },
  {
   "cell_type": "code",
   "execution_count": 1,
   "metadata": {},
   "outputs": [
    {
     "name": "stdout",
     "output_type": "stream",
     "text": [
      "[-44, 0, 4, 6, 12, 12, 767]\n"
     ]
    }
   ],
   "source": [
    "new_list = [12,4,6,12,767,-44,0]\n",
    "new_list.sort()\n",
    "print(new_list)"
   ]
  },
  {
   "attachments": {},
   "cell_type": "markdown",
   "metadata": {},
   "source": [
    "Sets are unorderd collection of unique elements"
   ]
  },
  {
   "cell_type": "code",
   "execution_count": 2,
   "metadata": {},
   "outputs": [
    {
     "name": "stdout",
     "output_type": "stream",
     "text": [
      "{1, 2, 3, 4, 5}\n"
     ]
    }
   ],
   "source": [
    "mylist3 = [1,1,1,1,2,2,2,2,3,3,4,4,5]\n",
    "print(set(mylist3))"
   ]
  },
  {
   "cell_type": "code",
   "execution_count": 1,
   "metadata": {},
   "outputs": [],
   "source": [
    "mystring = \"Urvish\"\n",
    "mylist4 = [l for l in mystring]"
   ]
  },
  {
   "cell_type": "code",
   "execution_count": 2,
   "metadata": {},
   "outputs": [
    {
     "name": "stdout",
     "output_type": "stream",
     "text": [
      "['U', 'r', 'v', 'i', 's', 'h']\n"
     ]
    }
   ],
   "source": [
    "print(mylist4)"
   ]
  },
  {
   "cell_type": "code",
   "execution_count": 3,
   "metadata": {},
   "outputs": [
    {
     "name": "stdout",
     "output_type": "stream",
     "text": [
      "['x', 'y', 't', 'f', 'd', 'y', 'e', 'c', 'd', 'y', 'u']\n"
     ]
    }
   ],
   "source": [
    "l1 = [l for l in \"xytfdyecdyu\"]\n",
    "print(l1)"
   ]
  },
  {
   "cell_type": "code",
   "execution_count": 4,
   "metadata": {},
   "outputs": [
    {
     "name": "stdout",
     "output_type": "stream",
     "text": [
      "[0, 1, 2, 3, 4, 5, 6, 7, 8, 9]\n"
     ]
    }
   ],
   "source": [
    "l2 = [l for l in range(0,10)]\n",
    "print(l2)"
   ]
  },
  {
   "cell_type": "code",
   "execution_count": 5,
   "metadata": {},
   "outputs": [
    {
     "name": "stdout",
     "output_type": "stream",
     "text": [
      "[1, 1, 4, 27, 256, 3125, 46656, 823543, 16777216, 387420489]\n"
     ]
    }
   ],
   "source": [
    "l3 = [num ** num for num in range(0,10)]\n",
    "print(l3)"
   ]
  },
  {
   "cell_type": "code",
   "execution_count": 6,
   "metadata": {},
   "outputs": [
    {
     "name": "stdout",
     "output_type": "stream",
     "text": [
      "[0, 'odd', 2, 'odd', 4, 'odd', 6, 'odd', 8, 'odd', 10, 'odd', 12, 'odd', 14, 'odd', 16, 'odd', 18, 'odd', 20, 'odd', 22, 'odd', 24, 'odd', 26, 'odd', 28, 'odd', 30, 'odd', 32, 'odd', 34, 'odd', 36, 'odd', 38, 'odd', 40, 'odd', 42, 'odd', 44, 'odd', 46, 'odd', 48, 'odd']\n"
     ]
    }
   ],
   "source": [
    "l4 =[x if x%2 == 0 else 'odd' for x in range(0,50)]\n",
    "print(l4)"
   ]
  },
  {
   "cell_type": "code",
   "execution_count": 7,
   "metadata": {},
   "outputs": [
    {
     "name": "stdout",
     "output_type": "stream",
     "text": [
      "[1, 10, 100, 20, 200, 2000, 300, 3000, 30000]\n"
     ]
    }
   ],
   "source": [
    "l5 = []\n",
    "\n",
    "for x in [1,20,300]:\n",
    "    for y in [1,10,100]:\n",
    "        l5.append(x*y)\n",
    "\n",
    "print(l5)"
   ]
  },
  {
   "cell_type": "code",
   "execution_count": 8,
   "metadata": {},
   "outputs": [
    {
     "data": {
      "text/plain": [
       "[1, 10, 100, 20, 200, 2000, 300, 3000, 30000]"
      ]
     },
     "execution_count": 8,
     "metadata": {},
     "output_type": "execute_result"
    }
   ],
   "source": [
    "l6 = [x*y for x in [1,20,300] for y in [1,10,100]]\n",
    "l6"
   ]
  }
 ],
 "metadata": {
  "kernelspec": {
   "display_name": "Python 3",
   "language": "python",
   "name": "python3"
  },
  "language_info": {
   "codemirror_mode": {
    "name": "ipython",
    "version": 3
   },
   "file_extension": ".py",
   "mimetype": "text/x-python",
   "name": "python",
   "nbconvert_exporter": "python",
   "pygments_lexer": "ipython3",
   "version": "3.11.0"
  },
  "orig_nbformat": 4,
  "vscode": {
   "interpreter": {
    "hash": "b91f41160b83ffc59c7e17fa6fd02d637d5dcf1d5e59aa2db87d82178661b954"
   }
  }
 },
 "nbformat": 4,
 "nbformat_minor": 2
}
