{
 "cells": [
  {
   "cell_type": "code",
   "execution_count": 7,
   "metadata": {
    "collapsed": true
   },
   "outputs": [],
   "source": [
    "import os\n",
    "from PIL import Image\n",
    "img_path = \"assets\""
   ]
  },
  {
   "cell_type": "code",
   "execution_count": 8,
   "outputs": [],
   "source": [
    "image_list = list()\n",
    "\n",
    "for imageName in os.listdir(img_path):\n",
    "    if imageName.endswith(\".jpg\") or imageName.endswith(\".png\"):\n",
    "        img = Image.open(os.path.join(img_path, imageName))\n",
    "        image_list.append(img.convert(\"L\"))"
   ],
   "metadata": {
    "collapsed": false
   }
  },
  {
   "cell_type": "markdown",
   "source": [
    "## it will show the list of images as well as their size"
   ],
   "metadata": {
    "collapsed": false
   }
  },
  {
   "cell_type": "code",
   "execution_count": 9,
   "outputs": [
    {
     "name": "stdout",
     "output_type": "stream",
     "text": [
      "[<PIL.Image.Image image mode=L size=3840x2160 at 0x20357081F90>, <PIL.Image.Image image mode=L size=320x298 at 0x20356F936D0>, <PIL.Image.Image image mode=L size=260x240 at 0x203573043D0>, <PIL.Image.Image image mode=L size=640x640 at 0x20357080BD0>, <PIL.Image.Image image mode=L size=618x640 at 0x2035712CD50>]\n"
     ]
    }
   ],
   "source": [
    "print(image_list)"
   ],
   "metadata": {
    "collapsed": false
   }
  },
  {
   "cell_type": "markdown",
   "source": [
    "### The below cell resizes the images, rotates them and saves the copy in given path"
   ],
   "metadata": {
    "collapsed": false
   }
  },
  {
   "cell_type": "code",
   "execution_count": 10,
   "outputs": [],
   "source": [
    "temp = image_list[0].rotate(90)\n",
    "temp = temp.resize((800, 800))\n",
    "temp.save(\"assets/result/gray.png\", \"png\")\n",
    "\n",
    "temp2 = image_list[1].rotate(180)\n",
    "temp2 = temp2.resize((200, 200))\n",
    "temp2.save(\"assets/result/gray2.png\", \"png\")"
   ],
   "metadata": {
    "collapsed": false
   }
  },
  {
   "cell_type": "markdown",
   "source": [
    "## This resizes the image and saves a copy\n",
    "- The new resolution will not be exact as we want\n",
    "- It will try its to keep the aspect ratio in range up to given size\n",
    "- However if the given range is too small then the image will be starched/squished"
   ],
   "metadata": {
    "collapsed": false
   }
  },
  {
   "cell_type": "code",
   "execution_count": 11,
   "outputs": [
    {
     "name": "stdout",
     "output_type": "stream",
     "text": [
      "(3840, 2160)\n",
      "(400, 225)\n"
     ]
    }
   ],
   "source": [
    "profile_pic = Image.open(\"assets/astronaut-holding-space-jellyfish.png\")\n",
    "print(profile_pic.size)\n",
    "\n",
    "profile_pic.thumbnail((400, 400))\n",
    "profile_pic.save(\"assets/result/final.png\", \"png\")\n",
    "\n",
    "print(profile_pic.size)"
   ],
   "metadata": {
    "collapsed": false
   }
  }
 ],
 "metadata": {
  "kernelspec": {
   "display_name": "Python 3",
   "language": "python",
   "name": "python3"
  },
  "language_info": {
   "codemirror_mode": {
    "name": "ipython",
    "version": 2
   },
   "file_extension": ".py",
   "mimetype": "text/x-python",
   "name": "python",
   "nbconvert_exporter": "python",
   "pygments_lexer": "ipython2",
   "version": "2.7.6"
  }
 },
 "nbformat": 4,
 "nbformat_minor": 0
}
