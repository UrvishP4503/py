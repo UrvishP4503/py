{
 "cells": [
  {
   "cell_type": "code",
   "execution_count": 1,
   "metadata": {},
   "outputs": [],
   "source": [
    "arr = [12,22,24,26,29,31,45,66,78,90,100]"
   ]
  },
  {
   "cell_type": "code",
   "execution_count": 14,
   "metadata": {},
   "outputs": [],
   "source": [
    "key = int(input())"
   ]
  },
  {
   "cell_type": "code",
   "execution_count": 15,
   "metadata": {},
   "outputs": [],
   "source": [
    "start = 0\n",
    "end = len(arr) - 1"
   ]
  },
  {
   "cell_type": "code",
   "execution_count": 18,
   "metadata": {},
   "outputs": [
    {
     "name": "stdout",
     "output_type": "stream",
     "text": [
      "The key is found at index 10\n"
     ]
    }
   ],
   "source": [
    "while start <= end:\n",
    "    mid = int(end - (end - start)/2)\n",
    "    if key == arr[mid]:\n",
    "        print(f\"The key is found at index {mid}\")\n",
    "        break\n",
    "    elif key > arr[mid] :\n",
    "        start = mid + 1\n",
    "    else:\n",
    "        end = mid - 1"
   ]
  },
  {
   "cell_type": "code",
   "execution_count": 22,
   "metadata": {},
   "outputs": [
    {
     "name": "stdout",
     "output_type": "stream",
     "text": [
      "12\n",
      "22\n",
      "24\n",
      "26\n",
      "29\n",
      "31\n",
      "45\n",
      "66\n",
      "78\n",
      "90\n",
      "100\n",
      "45\n",
      "90\n",
      "100\n"
     ]
    }
   ],
   "source": [
    "for num in arr:\n",
    "    print(f\"{num}\")\n",
    "for num in arr:\n",
    "    if num % 5 == 0:\n",
    "        print(f'{num}')"
   ]
  },
  {
   "cell_type": "code",
   "execution_count": 25,
   "metadata": {},
   "outputs": [
    {
     "name": "stdout",
     "output_type": "stream",
     "text": [
      "k1\n",
      "k2\n",
      "k3\n",
      "('k1', 1)\n",
      "('k2', 2)\n",
      "('k3', 3)\n"
     ]
    }
   ],
   "source": [
    "d = {'k1':1,'k2':2,'k3':3}\n",
    "for num in d:\n",
    "    print(f'{num}')\n",
    "for num in d.items():\n",
    "    print(num)"
   ]
  }
 ],
 "metadata": {
  "kernelspec": {
   "display_name": ".venv",
   "language": "python",
   "name": "python3"
  },
  "language_info": {
   "codemirror_mode": {
    "name": "ipython",
    "version": 3
   },
   "file_extension": ".py",
   "mimetype": "text/x-python",
   "name": "python",
   "nbconvert_exporter": "python",
   "pygments_lexer": "ipython3",
   "version": "3.11.0 (main, Oct 24 2022, 18:26:48) [MSC v.1933 64 bit (AMD64)]"
  },
  "orig_nbformat": 4,
  "vscode": {
   "interpreter": {
    "hash": "5212bb9d0cdf42ba27f79eabd687f6a7a6dedd1480b171ae7906833e14b46926"
   }
  }
 },
 "nbformat": 4,
 "nbformat_minor": 2
}
