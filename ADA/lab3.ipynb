{
 "cells": [
  {
   "cell_type": "markdown",
   "id": "a88b72d336607763",
   "metadata": {
    "collapsed": false
   },
   "source": [
    "## wap that prompts a user to enter a number from 1-7 and then displays the day of the week"
   ]
  },
  {
   "cell_type": "code",
   "execution_count": 1,
   "id": "9d87231f58fd47c2",
   "metadata": {
    "ExecuteTime": {
     "end_time": "2023-09-05T06:49:43.002093200Z",
     "start_time": "2023-09-05T06:49:40.840539400Z"
    },
    "collapsed": false
   },
   "outputs": [
    {
     "name": "stdout",
     "output_type": "stream",
     "text": [
      "Thursday\n"
     ]
    }
   ],
   "source": [
    "import math\n",
    "\n",
    "dat = int(input(\"Enter a number form 1 to 7: \"))\n",
    "\n",
    "if 0 < dat < 8:\n",
    "    if dat == 1:\n",
    "        print(\"Monday\")\n",
    "    elif dat == 2:\n",
    "        print(\"Tuesday\")\n",
    "    elif dat == 3:\n",
    "        print(\"Wednesday\")\n",
    "    elif dat == 4:\n",
    "        print(\"Thursday\")\n",
    "    elif dat == 5:\n",
    "        print(\"Friday\")\n",
    "    elif dat == 6:\n",
    "        print(\"Saturday\")\n",
    "    else:\n",
    "        print(\"Sunday\")\n",
    "else:\n",
    "    print(\"Enter a valid number\")"
   ]
  },
  {
   "cell_type": "markdown",
   "id": "3c3670592b05a4ce",
   "metadata": {
    "collapsed": false
   },
   "source": [
    "### wap to calculate the sum of squares of even numbers"
   ]
  },
  {
   "cell_type": "code",
   "execution_count": 6,
   "id": "8f9984634c5b8530",
   "metadata": {
    "ExecuteTime": {
     "end_time": "2023-09-05T07:13:58.851441700Z",
     "start_time": "2023-09-05T07:13:56.069114100Z"
    },
    "collapsed": false
   },
   "outputs": [
    {
     "name": "stdout",
     "output_type": "stream",
     "text": [
      "171700\n"
     ]
    }
   ],
   "source": [
    "sum_of_even = 0\n",
    "n = int(input(\"Enter the last number: \"))\n",
    "for i in range(n + 1):\n",
    "    if i % 2 == 0:\n",
    "        sum_of_even += i ** 2\n",
    "print(sum_of_even)"
   ]
  },
  {
   "cell_type": "code",
   "execution_count": 15,
   "id": "bb7fa8ef6a38641e",
   "metadata": {
    "ExecuteTime": {
     "end_time": "2023-09-05T07:38:02.199396900Z",
     "start_time": "2023-09-05T07:38:00.509695Z"
    },
    "collapsed": false
   },
   "outputs": [
    {
     "name": "stdout",
     "output_type": "stream",
     "text": [
      "                1 \n",
      "              1 2 1 \n",
      "            1 2 3 2 1 \n",
      "          1 2 3 4 3 2 1 \n",
      "        1 2 3 4 5 4 3 2 1 \n",
      "      1 2 3 4 5 6 5 4 3 2 1 \n",
      "    1 2 3 4 5 6 7 6 5 4 3 2 1 \n",
      "  1 2 3 4 5 6 7 8 7 6 5 4 3 2 1 \n",
      "1 2 3 4 5 6 7 8 9 8 7 6 5 4 3 2 1 \n"
     ]
    }
   ],
   "source": [
    "num = int(input(\"Enter number: \"))\n",
    "for i in range(1, num + 1):\n",
    "    for j in range(1, num - i + 1):\n",
    "        print(\" \", end=\" \")\n",
    "    for k in range(1, i + 1):\n",
    "        print(f\"{k}\", end=\" \")\n",
    "    for z in range(i - 1, 0, -1):\n",
    "        print(f\"{z}\", end=\" \")\n",
    "    print(\"\")\n"
   ]
  },
  {
   "cell_type": "code",
   "execution_count": 1,
   "outputs": [
    {
     "name": "stdout",
     "output_type": "stream",
     "text": [
      "1.4142135623730951\n"
     ]
    }
   ],
   "source": [
    "from math import sqrt\n",
    "\n",
    "\n",
    "def fun(num: float) -> float:\n",
    "    return sqrt(num)\n",
    "\n",
    "\n",
    "ii = float(input(\"Enter a number: \"))\n",
    "print(fun(ii))"
   ],
   "metadata": {
    "collapsed": false,
    "ExecuteTime": {
     "end_time": "2023-09-05T08:04:51.540361Z",
     "start_time": "2023-09-05T08:04:48.915335500Z"
    }
   },
   "id": "de5796450aa497f5"
  },
  {
   "cell_type": "code",
   "execution_count": null,
   "outputs": [],
   "source": [
    "def add(num1: float, num2: float) -> float:\n",
    "    return num1 + num2\n",
    "\n",
    "\n",
    "def sub(num1: float, num2: float) -> float:\n",
    "    pass\n",
    "\n",
    "\n",
    "def div(num1: float, num2: float) -> float:\n",
    "    pass\n",
    "\n",
    "\n",
    "def mul(num1: float, num2: float) -> float:\n",
    "    pass\n"
   ],
   "metadata": {
    "collapsed": false
   },
   "id": "4a8d15464489ba24"
  }
 ],
 "metadata": {
  "kernelspec": {
   "display_name": "Python 3",
   "language": "python",
   "name": "python3"
  },
  "language_info": {
   "codemirror_mode": {
    "name": "ipython",
    "version": 2
   },
   "file_extension": ".py",
   "mimetype": "text/x-python",
   "name": "python",
   "nbconvert_exporter": "python",
   "pygments_lexer": "ipython2",
   "version": "2.7.6"
  }
 },
 "nbformat": 4,
 "nbformat_minor": 5
}
